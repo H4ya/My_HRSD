{
 "cells": [
  {
   "cell_type": "code",
   "execution_count": 16,
   "metadata": {},
   "outputs": [],
   "source": [
    "import telebot\n",
    "import cv2\n",
    "import numpy as np\n",
    "from io import BytesIO\n",
    "\n",
    "bot = telebot.TeleBot('yourToken')\n",
    "#الكود بيقرأ البوت ويدخله\n",
    "\n",
    "@bot.message_handler(content_types=['photo'])\n",
    "def handle_photo(message):\n",
    "    file_id = message.photo[-1].file_id\n",
    "    file_info = bot.get_file(file_id)\n",
    "    file = bot.download_file(file_info.file_path)\n",
    "\n",
    "    np_array = np.frombuffer(file,dtype=np.uint8)\n",
    "    img = cv2.imdecode(np_array,cv2.IMREAD_COLOR)\n",
    "\n",
    "    gray = cv2.cvtColor(img,cv2.COLOR_BGR2GRAY)\n",
    "\n",
    "    face_cascade = cv2.CascadeClassifier(cv2.data.haarcascades + 'haarcascade_frontalface_default.xml')\n",
    "\n",
    "    faces = face_cascade.detectMultiScale(gray, scaleFactor=1.1, minNeighbors=5, minSize=(30,30))\n",
    "\n",
    "    for (x, y, w, h) in faces:\n",
    "        cv2.rectangle(img, (x, y), (x+w, y+h), (0, 255, 0), 2)\n",
    "\n",
    "    # حفظ الصورة المعالجة\n",
    "    processed_image_path = \"processed_image.jpg\"\n",
    "    cv2.imwrite(processed_image_path, img)\n",
    "\n",
    "    # إرسال الصورة المعالجة إلى المستخدم\n",
    "    processed_image = open(processed_image_path, \"rb\")\n",
    "    bot.send_photo(message.chat.id, processed_image)\n",
    "\n",
    "    # إرسال رسالة تؤكد معالجة الصورة\n",
    "    bot.send_message(message.chat.id, \"تم معالجة الصورة بنجاح!\")\n",
    "\n",
    "# بدء الاستماع على الرسائل الواردة\n",
    "bot.polling()\n",
    "\n",
    "\n",
    "\n"
   ]
  }
 ],
 "metadata": {
  "kernelspec": {
   "display_name": "Python 3",
   "language": "python",
   "name": "python3"
  },
  "language_info": {
   "name": "python",
   "version": "3.12.1"
  }
 },
 "nbformat": 4,
 "nbformat_minor": 2
}
